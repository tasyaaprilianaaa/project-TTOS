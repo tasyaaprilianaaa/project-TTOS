{
 "cells": [
  {
   "cell_type": "markdown",
   "metadata": {},
   "source": [
    "**Import Library and Load The Data**"
   ]
  },
  {
   "cell_type": "code",
   "execution_count": 1,
   "metadata": {},
   "outputs": [],
   "source": [
    "import numpy as np\n",
    "import pandas as pd\n",
    "import matplotlib.pyplot as plt\n",
    "import seaborn as sns\n",
    "import difflib\n",
    "from sklearn.feature_extraction.text import TfidfVectorizer\n",
    "from sklearn.metrics.pairwise import cosine_similarity"
   ]
  },
  {
   "cell_type": "code",
   "execution_count": 2,
   "metadata": {},
   "outputs": [
    {
     "data": {
      "text/html": [
       "<div>\n",
       "<style scoped>\n",
       "    .dataframe tbody tr th:only-of-type {\n",
       "        vertical-align: middle;\n",
       "    }\n",
       "\n",
       "    .dataframe tbody tr th {\n",
       "        vertical-align: top;\n",
       "    }\n",
       "\n",
       "    .dataframe thead th {\n",
       "        text-align: right;\n",
       "    }\n",
       "</style>\n",
       "<table border=\"1\" class=\"dataframe\">\n",
       "  <thead>\n",
       "    <tr style=\"text-align: right;\">\n",
       "      <th></th>\n",
       "      <th>Name</th>\n",
       "      <th>Aired Date</th>\n",
       "      <th>Year of release</th>\n",
       "      <th>Original Network</th>\n",
       "      <th>Aired On</th>\n",
       "      <th>Number of Episodes</th>\n",
       "      <th>Duration</th>\n",
       "      <th>Content Rating</th>\n",
       "      <th>Rating</th>\n",
       "      <th>Synopsis</th>\n",
       "      <th>Genre</th>\n",
       "      <th>Tags</th>\n",
       "      <th>Director</th>\n",
       "      <th>Screenwriter</th>\n",
       "      <th>Cast</th>\n",
       "      <th>Production companies</th>\n",
       "      <th>Rank</th>\n",
       "    </tr>\n",
       "  </thead>\n",
       "  <tbody>\n",
       "    <tr>\n",
       "      <th>0</th>\n",
       "      <td>Move to Heaven</td>\n",
       "      <td>May 14, 2021</td>\n",
       "      <td>2021</td>\n",
       "      <td>Netflix</td>\n",
       "      <td>Friday</td>\n",
       "      <td>10</td>\n",
       "      <td>52 min.</td>\n",
       "      <td>18+ Restricted (violence &amp; profanity)</td>\n",
       "      <td>9.2</td>\n",
       "      <td>Geu Roo is a young autistic man. He works for ...</td>\n",
       "      <td>Life,  Drama,  Family</td>\n",
       "      <td>Autism, Uncle-Nephew Relationship, Death, Sava...</td>\n",
       "      <td>Kim Sung Ho</td>\n",
       "      <td>Yoon Ji Ryun</td>\n",
       "      <td>Lee Je Hoon, Tang Jun Sang, Hong Seung Hee, Ju...</td>\n",
       "      <td>Page One Film, Number Three Pictures</td>\n",
       "      <td>#1</td>\n",
       "    </tr>\n",
       "    <tr>\n",
       "      <th>1</th>\n",
       "      <td>Flower of Evil</td>\n",
       "      <td>Jul 29, 2020 - Sep 23, 2020</td>\n",
       "      <td>2020</td>\n",
       "      <td>tvN</td>\n",
       "      <td>Wednesday, Thursday</td>\n",
       "      <td>16</td>\n",
       "      <td>1 hr. 10 min.</td>\n",
       "      <td>15+ - Teens 15 or older</td>\n",
       "      <td>9.1</td>\n",
       "      <td>Although Baek Hee Sung is hiding a dark secret...</td>\n",
       "      <td>Thriller,  Romance,  Crime,  Melodrama</td>\n",
       "      <td>Married Couple, Deception, Suspense, Family Se...</td>\n",
       "      <td>Kim Chul Gyu, Yoon Jong Ho</td>\n",
       "      <td>Yoo Jung Hee</td>\n",
       "      <td>Lee Joon Gi, Moon Chae Won, Jang Hee Jin, Seo ...</td>\n",
       "      <td>Monster Union</td>\n",
       "      <td>#2</td>\n",
       "    </tr>\n",
       "    <tr>\n",
       "      <th>2</th>\n",
       "      <td>Hospital Playlist</td>\n",
       "      <td>Mar 12, 2020 - May 28, 2020</td>\n",
       "      <td>2020</td>\n",
       "      <td>Netflix,  tvN</td>\n",
       "      <td>Thursday</td>\n",
       "      <td>12</td>\n",
       "      <td>1 hr. 30 min.</td>\n",
       "      <td>15+ - Teens 15 or older</td>\n",
       "      <td>9.1</td>\n",
       "      <td>The stories of people going through their days...</td>\n",
       "      <td>Friendship,  Romance,  Life,  Medical</td>\n",
       "      <td>Strong Friendship, Multiple Mains, Best Friend...</td>\n",
       "      <td>Shin Won Ho</td>\n",
       "      <td>Lee Woo Jung</td>\n",
       "      <td>Jo Jung Suk, Yoo Yeon Seok, Jung Kyung Ho, Kim...</td>\n",
       "      <td>Egg Is Coming, CJ ENM</td>\n",
       "      <td>#3</td>\n",
       "    </tr>\n",
       "    <tr>\n",
       "      <th>3</th>\n",
       "      <td>Hospital Playlist 2</td>\n",
       "      <td>Jun 17, 2021 - Sep 16, 2021</td>\n",
       "      <td>2021</td>\n",
       "      <td>Netflix,  tvN</td>\n",
       "      <td>Thursday</td>\n",
       "      <td>12</td>\n",
       "      <td>1 hr. 40 min.</td>\n",
       "      <td>15+ - Teens 15 or older</td>\n",
       "      <td>9.1</td>\n",
       "      <td>Everyday is extraordinary for five doctors and...</td>\n",
       "      <td>Friendship,  Romance,  Life,  Medical</td>\n",
       "      <td>Workplace, Strong Friendship, Best Friends, Mu...</td>\n",
       "      <td>Shin Won Ho</td>\n",
       "      <td>Lee Woo Jung</td>\n",
       "      <td>Jo Jung Suk, Yoo Yeon Seok, Jung Kyung Ho, Kim...</td>\n",
       "      <td>Egg Is Coming, CJ ENM</td>\n",
       "      <td>#4</td>\n",
       "    </tr>\n",
       "    <tr>\n",
       "      <th>4</th>\n",
       "      <td>My Mister</td>\n",
       "      <td>Mar 21, 2018 - May 17, 2018</td>\n",
       "      <td>2018</td>\n",
       "      <td>tvN</td>\n",
       "      <td>Wednesday, Thursday</td>\n",
       "      <td>16</td>\n",
       "      <td>1 hr. 17 min.</td>\n",
       "      <td>15+ - Teens 15 or older</td>\n",
       "      <td>9.1</td>\n",
       "      <td>Park Dong Hoon is a middle-aged engineer who i...</td>\n",
       "      <td>Psychological,  Life,  Drama,  Family</td>\n",
       "      <td>Age Gap, Nice Male Lead, Strong Female Lead, H...</td>\n",
       "      <td>Kim Won Suk, Kim Sang Woo</td>\n",
       "      <td>Park Hae Young</td>\n",
       "      <td>Lee Sun Kyun, IU, Park Ho San, Song Sae Byuk, ...</td>\n",
       "      <td>Chorokbaem Media</td>\n",
       "      <td>#5</td>\n",
       "    </tr>\n",
       "  </tbody>\n",
       "</table>\n",
       "</div>"
      ],
      "text/plain": [
       "                  Name                   Aired Date  Year of release  \\\n",
       "0       Move to Heaven                 May 14, 2021             2021   \n",
       "1       Flower of Evil  Jul 29, 2020 - Sep 23, 2020             2020   \n",
       "2    Hospital Playlist  Mar 12, 2020 - May 28, 2020             2020   \n",
       "3  Hospital Playlist 2  Jun 17, 2021 - Sep 16, 2021             2021   \n",
       "4            My Mister  Mar 21, 2018 - May 17, 2018             2018   \n",
       "\n",
       "  Original Network              Aired On  Number of Episodes       Duration  \\\n",
       "0          Netflix                Friday                  10        52 min.   \n",
       "1              tvN   Wednesday, Thursday                  16  1 hr. 10 min.   \n",
       "2   Netflix,  tvN               Thursday                  12  1 hr. 30 min.   \n",
       "3   Netflix,  tvN               Thursday                  12  1 hr. 40 min.   \n",
       "4              tvN   Wednesday, Thursday                  16  1 hr. 17 min.   \n",
       "\n",
       "                          Content Rating  Rating  \\\n",
       "0  18+ Restricted (violence & profanity)     9.2   \n",
       "1                15+ - Teens 15 or older     9.1   \n",
       "2                15+ - Teens 15 or older     9.1   \n",
       "3                15+ - Teens 15 or older     9.1   \n",
       "4                15+ - Teens 15 or older     9.1   \n",
       "\n",
       "                                            Synopsis  \\\n",
       "0  Geu Roo is a young autistic man. He works for ...   \n",
       "1  Although Baek Hee Sung is hiding a dark secret...   \n",
       "2  The stories of people going through their days...   \n",
       "3  Everyday is extraordinary for five doctors and...   \n",
       "4  Park Dong Hoon is a middle-aged engineer who i...   \n",
       "\n",
       "                                     Genre  \\\n",
       "0                   Life,  Drama,  Family    \n",
       "1  Thriller,  Romance,  Crime,  Melodrama    \n",
       "2   Friendship,  Romance,  Life,  Medical    \n",
       "3   Friendship,  Romance,  Life,  Medical    \n",
       "4   Psychological,  Life,  Drama,  Family    \n",
       "\n",
       "                                                Tags  \\\n",
       "0  Autism, Uncle-Nephew Relationship, Death, Sava...   \n",
       "1  Married Couple, Deception, Suspense, Family Se...   \n",
       "2  Strong Friendship, Multiple Mains, Best Friend...   \n",
       "3  Workplace, Strong Friendship, Best Friends, Mu...   \n",
       "4  Age Gap, Nice Male Lead, Strong Female Lead, H...   \n",
       "\n",
       "                     Director    Screenwriter  \\\n",
       "0                 Kim Sung Ho    Yoon Ji Ryun   \n",
       "1  Kim Chul Gyu, Yoon Jong Ho    Yoo Jung Hee   \n",
       "2                 Shin Won Ho    Lee Woo Jung   \n",
       "3                 Shin Won Ho    Lee Woo Jung   \n",
       "4   Kim Won Suk, Kim Sang Woo  Park Hae Young   \n",
       "\n",
       "                                                Cast  \\\n",
       "0  Lee Je Hoon, Tang Jun Sang, Hong Seung Hee, Ju...   \n",
       "1  Lee Joon Gi, Moon Chae Won, Jang Hee Jin, Seo ...   \n",
       "2  Jo Jung Suk, Yoo Yeon Seok, Jung Kyung Ho, Kim...   \n",
       "3  Jo Jung Suk, Yoo Yeon Seok, Jung Kyung Ho, Kim...   \n",
       "4  Lee Sun Kyun, IU, Park Ho San, Song Sae Byuk, ...   \n",
       "\n",
       "                   Production companies Rank  \n",
       "0  Page One Film, Number Three Pictures   #1  \n",
       "1                         Monster Union   #2  \n",
       "2                 Egg Is Coming, CJ ENM   #3  \n",
       "3                 Egg Is Coming, CJ ENM   #4  \n",
       "4                      Chorokbaem Media   #5  "
      ]
     },
     "execution_count": 2,
     "metadata": {},
     "output_type": "execute_result"
    }
   ],
   "source": [
    "df = pd.read_csv('C:\\\\project trending\\\\kdrama.csv')\n",
    "df.head()"
   ]
  },
  {
   "cell_type": "markdown",
   "metadata": {},
   "source": [
    "**Data Preparation**"
   ]
  },
  {
   "cell_type": "code",
   "execution_count": 10,
   "metadata": {},
   "outputs": [],
   "source": [
    "# Cleaning data\n",
    "df['Rank'] = df['Rank'].astype(str).str.replace('#', '').astype(int)"
   ]
  },
  {
   "cell_type": "code",
   "execution_count": 11,
   "metadata": {},
   "outputs": [
    {
     "name": "stdout",
     "output_type": "stream",
     "text": [
      "<class 'pandas.core.frame.DataFrame'>\n",
      "RangeIndex: 250 entries, 0 to 249\n",
      "Data columns (total 17 columns):\n",
      " #   Column                Non-Null Count  Dtype  \n",
      "---  ------                --------------  -----  \n",
      " 0   Name                  250 non-null    object \n",
      " 1   Aired Date            250 non-null    object \n",
      " 2   Year of release       250 non-null    int64  \n",
      " 3   Original Network      250 non-null    object \n",
      " 4   Aired On              250 non-null    object \n",
      " 5   Number of Episodes    250 non-null    int64  \n",
      " 6   Duration              250 non-null    object \n",
      " 7   Content Rating        245 non-null    object \n",
      " 8   Rating                250 non-null    float64\n",
      " 9   Synopsis              250 non-null    object \n",
      " 10  Genre                 250 non-null    object \n",
      " 11  Tags                  250 non-null    object \n",
      " 12  Director              249 non-null    object \n",
      " 13  Screenwriter          249 non-null    object \n",
      " 14  Cast                  250 non-null    object \n",
      " 15  Production companies  248 non-null    object \n",
      " 16  Rank                  250 non-null    int32  \n",
      "dtypes: float64(1), int32(1), int64(2), object(13)\n",
      "memory usage: 32.4+ KB\n"
     ]
    }
   ],
   "source": [
    "df.info()"
   ]
  },
  {
   "cell_type": "code",
   "execution_count": 12,
   "metadata": {},
   "outputs": [
    {
     "data": {
      "text/plain": [
       "(250, 17)"
      ]
     },
     "execution_count": 12,
     "metadata": {},
     "output_type": "execute_result"
    }
   ],
   "source": [
    "df.shape"
   ]
  },
  {
   "cell_type": "code",
   "execution_count": 13,
   "metadata": {},
   "outputs": [
    {
     "data": {
      "text/plain": [
       "Name                    0\n",
       "Aired Date              0\n",
       "Year of release         0\n",
       "Original Network        0\n",
       "Aired On                0\n",
       "Number of Episodes      0\n",
       "Duration                0\n",
       "Content Rating          5\n",
       "Rating                  0\n",
       "Synopsis                0\n",
       "Genre                   0\n",
       "Tags                    0\n",
       "Director                1\n",
       "Screenwriter            1\n",
       "Cast                    0\n",
       "Production companies    2\n",
       "Rank                    0\n",
       "dtype: int64"
      ]
     },
     "execution_count": 13,
     "metadata": {},
     "output_type": "execute_result"
    }
   ],
   "source": [
    "df.isnull().sum()"
   ]
  },
  {
   "cell_type": "code",
   "execution_count": 14,
   "metadata": {},
   "outputs": [],
   "source": [
    "df.dropna(inplace=True)"
   ]
  },
  {
   "cell_type": "code",
   "execution_count": 15,
   "metadata": {},
   "outputs": [
    {
     "name": "stdout",
     "output_type": "stream",
     "text": [
      "['Name', 'Original Network', 'Synopsis', 'Genre', 'Tags', 'Director', 'Cast']\n"
     ]
    }
   ],
   "source": [
    "# selecting only the relevant columns\n",
    "selected_feature = ['Name', 'Original Network', 'Synopsis', 'Genre', 'Tags', 'Director', 'Cast']\n",
    "print(selected_feature)"
   ]
  },
  {
   "cell_type": "code",
   "execution_count": 16,
   "metadata": {},
   "outputs": [],
   "source": [
    "# replacing the null values with empty string\n",
    "for feature in selected_feature:\n",
    "    df[feature] = df[feature].fillna('')"
   ]
  },
  {
   "cell_type": "code",
   "execution_count": 17,
   "metadata": {},
   "outputs": [],
   "source": [
    "# combine all seleceted features\n",
    "combined_features = df['Name'] + ' ' + df['Original Network'] + ' ' + df['Synopsis'] + ' ' + df['Genre'] + ' ' + df['Tags'] + ' ' + df['Director'] + ' ' + df['Cast']"
   ]
  },
  {
   "cell_type": "code",
   "execution_count": 18,
   "metadata": {},
   "outputs": [
    {
     "name": "stdout",
     "output_type": "stream",
     "text": [
      "0      Move to Heaven Netflix Geu Roo is a young auti...\n",
      "1      Flower of Evil tvN Although Baek Hee Sung is h...\n",
      "2      Hospital Playlist Netflix,  tvN  The stories o...\n",
      "3      Hospital Playlist 2 Netflix,  tvN  Everyday is...\n",
      "4      My Mister tvN Park Dong Hoon is a middle-aged ...\n",
      "                             ...                        \n",
      "245    Live Up to Your Name tvN Heo Im, who is born i...\n",
      "246    Queen for Seven Days KBS2 This drama is about ...\n",
      "247    Memory tvN Park Tae Suk is a lawyer who finds ...\n",
      "248    A Korean Odyssey Netflix, tvN In 2017, Son Oh ...\n",
      "249    Voice 4: Judgment Hour tvN A serial killer wit...\n",
      "Length: 242, dtype: object\n"
     ]
    }
   ],
   "source": [
    "print(combined_features)"
   ]
  },
  {
   "cell_type": "code",
   "execution_count": 19,
   "metadata": {},
   "outputs": [],
   "source": [
    "# converting text data to feature vectors\n",
    "vectorizer = TfidfVectorizer()"
   ]
  },
  {
   "cell_type": "code",
   "execution_count": 20,
   "metadata": {},
   "outputs": [],
   "source": [
    "feature_vectors = vectorizer.fit_transform(combined_features)"
   ]
  },
  {
   "cell_type": "code",
   "execution_count": 21,
   "metadata": {},
   "outputs": [
    {
     "name": "stdout",
     "output_type": "stream",
     "text": [
      "  (0, 3589)\t0.06477300380338889\n",
      "  (0, 2596)\t0.05922876083126429\n",
      "  (0, 2204)\t0.04147361281555975\n",
      "  (0, 4464)\t0.05922876083126429\n",
      "  (0, 3862)\t0.047161147834646484\n",
      "  (0, 2222)\t0.058811999637883895\n",
      "  (0, 1881)\t0.034319634744705035\n",
      "  (0, 3559)\t0.04564628973053441\n",
      "  (0, 1947)\t0.049261267281165456\n",
      "  (0, 2221)\t0.05771390272715222\n",
      "  (0, 3946)\t0.09391674171700563\n",
      "  (0, 1950)\t0.04425275536078433\n",
      "  (0, 2181)\t0.0712963738278821\n",
      "  (0, 2331)\t0.04585456400012656\n",
      "  (0, 1933)\t0.03787648240685613\n",
      "  (0, 3866)\t0.03590344298022872\n",
      "  (0, 2258)\t0.021601977183709493\n",
      "  (0, 2811)\t0.1009758427932423\n",
      "  (0, 224)\t0.018827318063229785\n",
      "  (0, 734)\t0.1009758427932423\n",
      "  (0, 865)\t0.08184912872038781\n",
      "  (0, 1400)\t0.06838798135401994\n",
      "  (0, 2339)\t0.08502332613478535\n",
      "  (0, 3695)\t0.04564628973053441\n",
      "  (0, 3960)\t0.0712963738278821\n",
      "  :\t:\n",
      "  (241, 1900)\t0.037373780115178036\n",
      "  (241, 1630)\t0.07252451448559483\n",
      "  (241, 3545)\t0.1375294811365035\n",
      "  (241, 1071)\t0.061539653248492206\n",
      "  (241, 1843)\t0.0413469460887678\n",
      "  (241, 365)\t0.07254672118989446\n",
      "  (241, 4145)\t0.044583014576813566\n",
      "  (241, 2204)\t0.1482444657662199\n",
      "  (241, 4464)\t0.0705696579209986\n",
      "  (241, 3559)\t0.10877293417714896\n",
      "  (241, 2331)\t0.02731731046023637\n",
      "  (241, 3866)\t0.042778097224066725\n",
      "  (241, 2258)\t0.025738241335397104\n",
      "  (241, 224)\t0.04486460215087376\n",
      "  (241, 3695)\t0.05438646708857448\n",
      "  (241, 999)\t0.10237769606958286\n",
      "  (241, 396)\t0.06964757439123394\n",
      "  (241, 4370)\t0.031887565902912404\n",
      "  (241, 2759)\t0.09548027156215419\n",
      "  (241, 255)\t0.07994539499414596\n",
      "  (241, 569)\t0.040891027431879404\n",
      "  (241, 2911)\t0.053539677521135205\n",
      "  (241, 4472)\t0.034532633852375934\n",
      "  (241, 2162)\t0.052800645957221545\n",
      "  (241, 4051)\t0.07101752879621798\n"
     ]
    }
   ],
   "source": [
    "print(feature_vectors)"
   ]
  },
  {
   "cell_type": "markdown",
   "metadata": {},
   "source": [
    "**Cosine Similarity**"
   ]
  },
  {
   "cell_type": "code",
   "execution_count": 22,
   "metadata": {},
   "outputs": [
    {
     "name": "stdout",
     "output_type": "stream",
     "text": [
      "[[1.         0.08033645 0.05553314 ... 0.11657191 0.06071648 0.05802335]\n",
      " [0.08033645 1.         0.05332572 ... 0.10320595 0.12657398 0.12086021]\n",
      " [0.05553314 0.05332572 1.         ... 0.0814387  0.09708386 0.07007628]\n",
      " ...\n",
      " [0.11657191 0.10320595 0.0814387  ... 1.         0.09007262 0.06347431]\n",
      " [0.06071648 0.12657398 0.09708386 ... 0.09007262 1.         0.0870322 ]\n",
      " [0.05802335 0.12086021 0.07007628 ... 0.06347431 0.0870322  1.        ]]\n"
     ]
    }
   ],
   "source": [
    "# getting the similarity scores\n",
    "similarity = cosine_similarity(feature_vectors)\n",
    "print(similarity)"
   ]
  },
  {
   "cell_type": "code",
   "execution_count": 23,
   "metadata": {},
   "outputs": [
    {
     "name": "stdout",
     "output_type": "stream",
     "text": [
      "(242, 242)\n"
     ]
    }
   ],
   "source": [
    "print(similarity.shape)"
   ]
  },
  {
   "cell_type": "code",
   "execution_count": 42,
   "metadata": {},
   "outputs": [],
   "source": [
    "df = pd.DataFrame(similarity)"
   ]
  },
  {
   "cell_type": "code",
   "execution_count": 43,
   "metadata": {},
   "outputs": [],
   "source": [
    "# write to csv\n",
    "df.to_csv('C:\\\\project trending\\\\cosine_sim.csv', index=False)"
   ]
  },
  {
   "cell_type": "markdown",
   "metadata": {},
   "source": [
    "**Getting KDRAMA Name**"
   ]
  },
  {
   "cell_type": "code",
   "execution_count": 31,
   "metadata": {},
   "outputs": [],
   "source": [
    "kdrame_name = input(\"Enter the name of the movie you want to search: \")"
   ]
  },
  {
   "cell_type": "code",
   "execution_count": 32,
   "metadata": {},
   "outputs": [
    {
     "name": "stdout",
     "output_type": "stream",
     "text": [
      "['Move to Heaven', 'Flower of Evil', 'Hospital Playlist', 'Hospital Playlist 2', 'My Mister', 'Reply 1988', 'Weak Hero Class 1', 'Prison Playbook', 'Alchemy of Souls', 'Extraordinary Attorney Woo', 'Mr. Queen', 'Mother', \"It's Okay to Not Be Okay\", 'Crash Landing on You', 'Vincenzo', 'Navillera', 'Signal', 'Mr. Sunshine', 'Happiness', 'Kingdom: Season 2', 'SKY Castle', 'Tomorrow', 'Healer', 'Stranger', 'Twenty-Five Twenty-One', 'The Red Sleeve', 'Goblin', 'The Uncanny Counter', 'Mouse', 'Kingdom', 'Weightlifting Fairy Kim Bok Joo', 'D.P.', 'The Devil Judge', 'The Penthouse', 'Youth of May', 'Taxi Driver', 'Life on Mars', 'Beyond Evil', 'Racket Boys', 'Hometown Cha-Cha-Cha', 'Six Flying Dragons', 'Our Beloved Summer', 'The Guest', 'Dear My Friends', 'While You Were Sleeping', 'The Penthouse 2', 'Chicago Typewriter', '18 Again', 'Arthdal Chronicles Part 2', 'Arthdal Chronicles Part 3', 'Through the Darkness', 'Dr. Romantic 2', 'Defendant', 'Our Blues', 'Sweet Home', 'Kill Me, Heal Me', 'Moon Lovers', 'A Business Proposal', 'Misaeng', 'Strong Woman Do Bong Soon', 'The Fiery Priest', 'My Name', 'Hotel del Luna', 'Hot Stove League', 'Dr. Romantic', 'Descendants of the Sun', 'Law School', 'Strangers from Hell', 'Live', 'Tunnel', 'My Liberation Notes', 'Partners for Justice 2', 'Jewel in the Palace', \"It's Okay, That's Love\", 'Little Women', 'Ghost Doctor', 'Eulachacha Waikiki', 'The Bridal Mask', 'Children of Nobody', 'Good Manager', 'The King of Pigs', 'Big Mouth', 'Go Back Couple', 'Empress Ki', 'My Father is Strange', 'Once Again', 'Missing', 'Stranger 2', 'Designated Survivor', 'Juvenile Justice', 'Cruel City', 'My Love from the Star', 'Mystic Pop-Up Bar', 'Age of Youth', 'Just Between Lovers', 'Save Me', 'Bad and Crazy', '365', \"The Master's Sun\", 'Avengers Social Club', 'Rebel', 'Nobody Knows', 'Bad Guys', 'Beautiful World', 'Arthdal Chronicles Part 1', 'Kairos', 'I Hear Your Voice', \"What's Wrong with Secretary Kim\", 'Vagabond', 'One Ordinary Day', 'Reply 1997', 'Doctor John', 'Hi Bye, Mama!', 'Voice', 'Fight For My Way', 'Squid Game', 'W', 'Queen Seon Duk', 'Mad for Each Other', 'Dali and the Cocky Prince', 'Thirty But Seventeen', 'When the Camellia Blooms', 'Be Melodramatic', 'Itaewon Class', 'Snowdrop', 'Circle', 'Because This Is My First Life', \"The Princess's Man\", 'Blind', 'Two Weeks', 'Work Later, Drink Now', 'Dong Yi', 'Gaus Electronics', \"Angel's Last Mission: Love\", 'The World of the Married', 'All of Us Are Dead', 'Extracurricular', \"Yumi's Cells\", 'Lost', \"Queen In Hyun's Man\", 'If You Wish Upon Me', \"I'm Not a Robot\", 'Memorist', 'Voice 2', 'Doom at Your Service', 'Search: WWW', 'From Now On, Showtime!', 'Hello Monster', 'Moon Embracing the Sun', 'Train', 'Sh**ting Stars', 'The Crowned Clown', 'Mad Dog', 'Birthcare Center', 'Nine: Nine Times Time Travel', 'Extraordinary You', 'Pinocchio', 'Doctor Prisoner', 'Love All Play', 'My Unfamiliar Family', 'Her Private Life', 'Age of Youth 2', 'Secret', 'Military Prosecutor Doberman', 'Pachinko', 'My Roommate Is a Gumiho', \"Yumi's Cells 2\", 'My Country: The New Age', 'Sell Your Haunted House', 'The Legend of the Blue Sea', 'Come and Hug Me', 'Partners for Justice', 'Seasons of Blossom', 'The Tale of Nokdu', 'Psychopath Diary', 'The Beauty Inside', 'Tale of the Nine-Tailed', 'The Good Detective', 'He Is Psychometric', 'One Spring Night', 'Soundtrack #1', 'City Hunter', 'Class of Lies', '100 Days My Prince', 'At a Distance, Spring Is Green', 'Lie After Lie', 'The Sound of Magic', 'Good Doctor', 'Rookie Cops', 'True Beauty', 'Oh My Ghost', \"God's Gift: 14 Days\", 'The Sound of Your Heart', 'The Veil', 'Graceful Family', 'Gu Family Book', 'The Hymn of Death', 'Jumong', 'Vampire Prosecutor 2', 'Ugly Alert', 'Misty', 'Voice 3: City of Accomplices', 'Confession', 'Again My Life', 'Money Heist: Korea - Joint Economic Area - Part 1', 'Are You Human Too?', 'Run On', 'The Smile Has Left Your Eyes', 'Team Bulldog: Off-duty Investigation', 'The Guardians', 'Terius Behind Me', 'Hyena', 'Touch Your Heart', 'Welcome 2 Life', 'Suspicious Partner', 'Mine', 'When the Weather Is Fine', 'Lawless Lawyer', 'Crazy Love', 'WATCHER', 'Five Enough', 'Amanza', 'Light on Me', 'Bulgasal: Immortal Souls', 'Tree With Deep Roots', '49 Days', 'D-Day', 'Awaken', 'Oh My Venus', 'Leverage', \"The King's Affection\", \"A Gentleman's Dignity\", 'Rookie Historian Goo Hae Ryung', 'Ghost', 'Love Playlist: Season 4', \"God's Quiz: Reboot\", 'Missing Noir M', 'Live Up to Your Name', 'Queen for Seven Days', 'Memory', 'A Korean Odyssey', 'Voice 4: Judgment Hour']\n"
     ]
    }
   ],
   "source": [
    "# creating list all the movie names\n",
    "list_all_kdrama = df['Name'].tolist()\n",
    "print(list_all_kdrama)"
   ]
  },
  {
   "cell_type": "code",
   "execution_count": 33,
   "metadata": {},
   "outputs": [
    {
     "name": "stdout",
     "output_type": "stream",
     "text": [
      "['Hospital Playlist', 'Hospital Playlist 2']\n"
     ]
    }
   ],
   "source": [
    "# finding close matches for kdrama\n",
    "find_close_matches = difflib.get_close_matches(kdrame_name, list_all_kdrama)\n",
    "print(find_close_matches)"
   ]
  },
  {
   "cell_type": "code",
   "execution_count": 34,
   "metadata": {},
   "outputs": [
    {
     "name": "stdout",
     "output_type": "stream",
     "text": [
      "Hospital Playlist\n"
     ]
    }
   ],
   "source": [
    "close_matches = find_close_matches[0]\n",
    "print(close_matches)"
   ]
  },
  {
   "cell_type": "code",
   "execution_count": 35,
   "metadata": {},
   "outputs": [
    {
     "name": "stdout",
     "output_type": "stream",
     "text": [
      "3\n"
     ]
    }
   ],
   "source": [
    "# finding the index of the movie\n",
    "index_of_kdrama = df[df['Name'] == close_matches]['Rank'].values[0]\n",
    "print(index_of_kdrama)"
   ]
  },
  {
   "cell_type": "code",
   "execution_count": 36,
   "metadata": {},
   "outputs": [
    {
     "name": "stdout",
     "output_type": "stream",
     "text": [
      "[(0, 0.04099361003328644), (1, 0.044645186646060556), (2, 0.5893710357399935), (3, 1.0000000000000002), (4, 0.08632057583973057), (5, 0.12577683529496356), (6, 0.08443929945835286), (7, 0.08552956119336802), (8, 0.09264530205550607), (9, 0.09219753894729955), (10, 0.060390215558030355), (11, 0.03972266089659452), (12, 0.06379416115242321), (13, 0.07597938770284578), (14, 0.06358927201695953), (15, 0.06207749025995444), (16, 0.044900115474256506), (17, 0.05951739580286145), (18, 0.054713541615726925), (19, 0.07299375805810147), (20, 0.17047024403891875), (21, 0.03332039855980321), (22, 0.07939189515865769), (23, 0.0656514273159145), (24, 0.07919690605353265), (25, 0.05306814827877062), (26, 0.06755210329585805), (27, 0.07038737706580639), (28, 0.02837744681958366), (29, 0.054804794736581834), (30, 0.05594572675834239), (31, 0.04886202271510937), (32, 0.07162122597157591), (33, 0.03568440879015122), (34, 0.079345750494482), (35, 0.04544363994131125), (36, 0.0900397213696742), (37, 0.0737794124189347), (38, 0.07168730165660003), (39, 0.07503314749736407), (40, 0.08395341276025857), (41, 0.044552143024370314), (42, 0.041642949583073734), (43, 0.12609611968210682), (44, 0.05301378969535797), (45, 0.036133434534555454), (46, 0.09331500773052377), (47, 0.07811515872805003), (48, 0.07002083506241152), (49, 0.05002670399300392), (50, 0.03306759416632099), (51, 0.23812345181605749), (52, 0.05465695372078003), (53, 0.09215947522541301), (54, 0.06764490381276429), (55, 0.052794134751910755), (56, 0.02343581472442602), (57, 0.05687462731762875), (58, 0.11261631432651788), (59, 0.11361242435986978), (60, 0.09323877593520608), (61, 0.0599639918476238), (62, 0.057203906530627575), (63, 0.07662541476262275), (64, 0.1382865681408987), (65, 0.15381708624103704), (66, 0.07662196520067102), (67, 0.024988568726015254), (68, 0.13779065851174516), (69, 0.07069239508440084), (70, 0.14105815799452856), (71, 0.11047738014838887), (72, 0.04694371936607811), (73, 0.04690231589187509), (74, 0.06132970025359543), (75, 0.13710737755846134), (76, 0.06579440347863245), (77, 0.030718735067710192), (78, 0.045770867390799705), (79, 0.05905024830034045), (80, 0.04933730027935286), (81, 0.08062486466552111), (82, 0.04345443865518959), (83, 0.024683179144375053), (84, 0.0685150614375871), (85, 0.13204883744917836), (86, 0.03164400120132308), (87, 0.06266091582209816), (88, 0.03889562552685439), (89, 0.038164294670735066), (90, 0.0820488572412175), (91, 0.053127509937509414), (92, 0.04255490231011781), (93, 0.12957458189314652), (94, 0.06267727413226769), (95, 0.09472071414822995), (96, 0.045679018365672466), (97, 0.05291768643688825), (98, 0.061759797796459105), (99, 0.12066634371456704), (100, 0.040762702967117495), (101, 0.10436548156344085), (102, 0.08146266157164911), (103, 0.08385999220303295), (104, 0.07086663592019883), (105, 0.04583276392895789), (106, 0.04931648659486623), (107, 0.07196157518330941), (108, 0.048510000260479795), (109, 0.07325139699600859), (110, 0.15113535308194012), (111, 0.10890087012055895), (112, 0.057079145136359456), (113, 0.052156671673848104), (114, 0.12384135307426664), (115, 0.04664559215279937), (116, 0.047097329237557564), (117, 0.04895895324545077), (118, 0.06712830002716164), (119, 0.04867875927904173), (120, 0.0653818281487386), (121, 0.04377391097779459), (122, 0.13021712823151202), (123, 0.07845892571835024), (124, 0.06706893113735866), (125, 0.05693038643193942), (126, 0.12220392866534958), (127, 0.09161298515730786), (128, 0.06469639652802846), (129, 0.08071085246774336), (130, 0.11143247110716163), (131, 0.09650970167503609), (132, 0.06335402137866002), (133, 0.07215082883105316), (134, 0.06488184248134457), (135, 0.03803185768594589), (136, 0.05412824071865373), (137, 0.08677141737993131), (138, 0.06194791804916143), (139, 0.07740003576502329), (140, 0.07445984606697408), (141, 0.03926144156435346), (142, 0.08894623905535737), (143, 0.03944867802743246), (144, 0.062072642942259074), (145, 0.09320586002064925), (146, 0.04169882513959218), (147, 0.03465400409918535), (148, 0.047768231930302704), (149, 0.08944896268581608), (150, 0.08590542119568254), (151, 0.040516893503750324), (152, 0.04455132920121388), (153, 0.11765282358324118), (154, 0.04969625266989968), (155, 0.059269281097939525), (156, 0.06816612788550473), (157, 0.18506303050562528), (158, 0.0484944316911489), (159, 0.08560935869010902), (160, 0.06709999796081147), (161, 0.13329862296180597), (162, 0.0841850603812136), (163, 0.053251090899478805), (164, 0.04094409958854246), (165, 0.08898380335369846), (166, 0.06957861013126378), (167, 0.0939079763869007), (168, 0.04230529353770447), (169, 0.05331889655346683), (170, 0.07379635992937263), (171, 0.0789250598500359), (172, 0.10963593914594122), (173, 0.08131839389478066), (174, 0.04713741343079102), (175, 0.06693335858636339), (176, 0.06103538905887155), (177, 0.07609256790355522), (178, 0.0701299061495986), (179, 0.08324607250593943), (180, 0.12972130616205538), (181, 0.07947216247836422), (182, 0.04562664757820819), (183, 0.04730468725170706), (184, 0.09308678950609811), (185, 0.042068367621106544), (186, 0.04364504445896064), (187, 0.08895852664551024), (188, 0.05466586407468465), (189, 0.04429379706034166), (190, 0.05171281531884173), (191, 0.05116154956967231), (192, 0.08549077625178858), (193, 0.03995263715119817), (194, 0.0787552083024102), (195, 0.0531222081638675), (196, 0.06892349460231395), (197, 0.03752927984697346), (198, 0.05368503816419198), (199, 0.08689391123854615), (200, 0.05873980298897689), (201, 0.040237619344567606), (202, 0.12959698457507082), (203, 0.04148532922819105), (204, 0.0888282056342647), (205, 0.07812381315812089), (206, 0.08787605421757104), (207, 0.05008538946625491), (208, 0.0821299298662759), (209, 0.044896148749312526), (210, 0.04597446619975343), (211, 0.06901124653160345), (212, 0.056400937002539696), (213, 0.05882177099454924), (214, 0.06240447648203032), (215, 0.10886740201496017), (216, 0.050776220750698126), (217, 0.05147587565676454), (218, 0.05263459571403949), (219, 0.04713250440536839), (220, 0.12280523279054369), (221, 0.051896498978348415), (222, 0.07485980236126386), (223, 0.045496197876715314), (224, 0.0627622796340825), (225, 0.10283185026744882), (226, 0.11350419631379967), (227, 0.05397742959524559), (228, 0.060548595997274246), (229, 0.0694385441766826), (230, 0.07351814347605505), (231, 0.08658120425820201), (232, 0.054963491247241786), (233, 0.046880849569960636), (234, 0.13221182865836678), (235, 0.0952423861843137), (236, 0.02672149509249092), (237, 0.059548518454195384), (238, 0.05931471029572782), (239, 0.06376953865398366), (240, 0.06853690720789958), (241, 0.04239246020877719)]\n"
     ]
    }
   ],
   "source": [
    "# getting a list similar movies\n",
    "similarity_score = list(enumerate(similarity[index_of_kdrama]))\n",
    "print(similarity_score)"
   ]
  },
  {
   "cell_type": "code",
   "execution_count": 37,
   "metadata": {},
   "outputs": [
    {
     "data": {
      "text/plain": [
       "242"
      ]
     },
     "execution_count": 37,
     "metadata": {},
     "output_type": "execute_result"
    }
   ],
   "source": [
    "len(similarity_score)"
   ]
  },
  {
   "cell_type": "code",
   "execution_count": 38,
   "metadata": {},
   "outputs": [
    {
     "name": "stdout",
     "output_type": "stream",
     "text": [
      "[(3, 1.0000000000000002), (2, 0.5893710357399935), (51, 0.23812345181605749), (157, 0.18506303050562528), (20, 0.17047024403891875), (65, 0.15381708624103704), (110, 0.15113535308194012), (70, 0.14105815799452856), (64, 0.1382865681408987), (68, 0.13779065851174516), (75, 0.13710737755846134), (161, 0.13329862296180597), (234, 0.13221182865836678), (85, 0.13204883744917836), (122, 0.13021712823151202), (180, 0.12972130616205538), (202, 0.12959698457507082), (93, 0.12957458189314652), (43, 0.12609611968210682), (5, 0.12577683529496356), (114, 0.12384135307426664), (220, 0.12280523279054369), (126, 0.12220392866534958), (99, 0.12066634371456704), (153, 0.11765282358324118), (59, 0.11361242435986978), (226, 0.11350419631379967), (58, 0.11261631432651788), (130, 0.11143247110716163), (71, 0.11047738014838887), (172, 0.10963593914594122), (111, 0.10890087012055895), (215, 0.10886740201496017), (101, 0.10436548156344085), (225, 0.10283185026744882), (131, 0.09650970167503609), (235, 0.0952423861843137), (95, 0.09472071414822995), (167, 0.0939079763869007), (46, 0.09331500773052377), (60, 0.09323877593520608), (145, 0.09320586002064925), (184, 0.09308678950609811), (8, 0.09264530205550607), (9, 0.09219753894729955), (53, 0.09215947522541301), (127, 0.09161298515730786), (36, 0.0900397213696742), (149, 0.08944896268581608), (165, 0.08898380335369846), (187, 0.08895852664551024), (142, 0.08894623905535737), (204, 0.0888282056342647), (206, 0.08787605421757104), (199, 0.08689391123854615), (137, 0.08677141737993131), (231, 0.08658120425820201), (4, 0.08632057583973057), (150, 0.08590542119568254), (159, 0.08560935869010902), (7, 0.08552956119336802), (192, 0.08549077625178858), (6, 0.08443929945835286), (162, 0.0841850603812136), (40, 0.08395341276025857), (103, 0.08385999220303295), (179, 0.08324607250593943), (208, 0.0821299298662759), (90, 0.0820488572412175), (102, 0.08146266157164911), (173, 0.08131839389478066), (129, 0.08071085246774336), (81, 0.08062486466552111), (181, 0.07947216247836422), (22, 0.07939189515865769), (34, 0.079345750494482), (24, 0.07919690605353265), (171, 0.0789250598500359), (194, 0.0787552083024102), (123, 0.07845892571835024), (205, 0.07812381315812089), (47, 0.07811515872805003), (139, 0.07740003576502329), (63, 0.07662541476262275), (66, 0.07662196520067102), (177, 0.07609256790355522), (13, 0.07597938770284578), (39, 0.07503314749736407), (222, 0.07485980236126386), (140, 0.07445984606697408), (170, 0.07379635992937263), (37, 0.0737794124189347), (230, 0.07351814347605505), (109, 0.07325139699600859), (19, 0.07299375805810147), (133, 0.07215082883105316), (107, 0.07196157518330941), (38, 0.07168730165660003), (32, 0.07162122597157591), (104, 0.07086663592019883), (69, 0.07069239508440084), (27, 0.07038737706580639), (178, 0.0701299061495986), (48, 0.07002083506241152), (166, 0.06957861013126378), (229, 0.0694385441766826), (211, 0.06901124653160345), (196, 0.06892349460231395), (240, 0.06853690720789958), (84, 0.0685150614375871), (156, 0.06816612788550473), (54, 0.06764490381276429), (26, 0.06755210329585805), (118, 0.06712830002716164), (160, 0.06709999796081147), (124, 0.06706893113735866), (175, 0.06693335858636339), (76, 0.06579440347863245), (23, 0.0656514273159145), (120, 0.0653818281487386), (134, 0.06488184248134457), (128, 0.06469639652802846), (12, 0.06379416115242321), (239, 0.06376953865398366), (14, 0.06358927201695953), (132, 0.06335402137866002), (224, 0.0627622796340825), (94, 0.06267727413226769), (87, 0.06266091582209816), (214, 0.06240447648203032), (15, 0.06207749025995444), (144, 0.062072642942259074), (138, 0.06194791804916143), (98, 0.061759797796459105), (74, 0.06132970025359543), (176, 0.06103538905887155), (228, 0.060548595997274246), (10, 0.060390215558030355), (61, 0.0599639918476238), (237, 0.059548518454195384), (17, 0.05951739580286145), (238, 0.05931471029572782), (155, 0.059269281097939525), (79, 0.05905024830034045), (213, 0.05882177099454924), (200, 0.05873980298897689), (62, 0.057203906530627575), (112, 0.057079145136359456), (125, 0.05693038643193942), (57, 0.05687462731762875), (212, 0.056400937002539696), (30, 0.05594572675834239), (232, 0.054963491247241786), (29, 0.054804794736581834), (18, 0.054713541615726925), (188, 0.05466586407468465), (52, 0.05465695372078003), (136, 0.05412824071865373), (227, 0.05397742959524559), (198, 0.05368503816419198), (169, 0.05331889655346683), (163, 0.053251090899478805), (91, 0.053127509937509414), (195, 0.0531222081638675), (25, 0.05306814827877062), (44, 0.05301378969535797), (97, 0.05291768643688825), (55, 0.052794134751910755), (218, 0.05263459571403949), (113, 0.052156671673848104), (221, 0.051896498978348415), (190, 0.05171281531884173), (217, 0.05147587565676454), (191, 0.05116154956967231), (216, 0.050776220750698126), (207, 0.05008538946625491), (49, 0.05002670399300392), (154, 0.04969625266989968), (80, 0.04933730027935286), (106, 0.04931648659486623), (117, 0.04895895324545077), (31, 0.04886202271510937), (119, 0.04867875927904173), (108, 0.048510000260479795), (158, 0.0484944316911489), (148, 0.047768231930302704), (183, 0.04730468725170706), (174, 0.04713741343079102), (219, 0.04713250440536839), (116, 0.047097329237557564), (72, 0.04694371936607811), (73, 0.04690231589187509), (233, 0.046880849569960636), (115, 0.04664559215279937), (210, 0.04597446619975343), (105, 0.04583276392895789), (78, 0.045770867390799705), (96, 0.045679018365672466), (182, 0.04562664757820819), (223, 0.045496197876715314), (35, 0.04544363994131125), (16, 0.044900115474256506), (209, 0.044896148749312526), (1, 0.044645186646060556), (41, 0.044552143024370314), (152, 0.04455132920121388), (189, 0.04429379706034166), (121, 0.04377391097779459), (186, 0.04364504445896064), (82, 0.04345443865518959), (92, 0.04255490231011781), (241, 0.04239246020877719), (168, 0.04230529353770447), (185, 0.042068367621106544), (146, 0.04169882513959218), (42, 0.041642949583073734), (203, 0.04148532922819105), (0, 0.04099361003328644), (164, 0.04094409958854246), (100, 0.040762702967117495), (151, 0.040516893503750324), (201, 0.040237619344567606), (193, 0.03995263715119817), (11, 0.03972266089659452), (143, 0.03944867802743246), (141, 0.03926144156435346), (88, 0.03889562552685439), (89, 0.038164294670735066), (135, 0.03803185768594589), (197, 0.03752927984697346), (45, 0.036133434534555454), (33, 0.03568440879015122), (147, 0.03465400409918535), (21, 0.03332039855980321), (50, 0.03306759416632099), (86, 0.03164400120132308), (77, 0.030718735067710192), (28, 0.02837744681958366), (236, 0.02672149509249092), (67, 0.024988568726015254), (83, 0.024683179144375053), (56, 0.02343581472442602)]\n"
     ]
    }
   ],
   "source": [
    "# sorting movies based on similarity score\n",
    "sorted_similar_movies = sorted(similarity_score, key=lambda x: x[1], reverse=True)\n",
    "print(sorted_similar_movies)"
   ]
  },
  {
   "cell_type": "code",
   "execution_count": 39,
   "metadata": {},
   "outputs": [
    {
     "name": "stdout",
     "output_type": "stream",
     "text": [
      "KDrama suggested for you : \n",
      "\n",
      "1 . Hospital Playlist\n",
      "2 . Flower of Evil\n",
      "3 . Through the Darkness\n",
      "4 . Nine: Nine Times Time Travel\n",
      "5 . Kingdom: Season 2\n",
      "6 . Dr. Romantic\n",
      "7 . One Ordinary Day\n",
      "8 . Tunnel\n",
      "9 . Hot Stove League\n",
      "10 . Strangers from Hell\n",
      "11 . Little Women\n",
      "12 . Love All Play\n",
      "13 . D-Day\n",
      "14 . My Father is Strange\n",
      "15 . When the Camellia Blooms\n",
      "16 . Tale of the Nine-Tailed\n",
      "17 . The Hymn of Death\n",
      "18 . Mystic Pop-Up Bar\n",
      "19 . The Guest\n",
      "20 . My Mister\n"
     ]
    }
   ],
   "source": [
    "# printing the name of similarity movies based on index\n",
    "print(\"KDrama suggested for you : \\n\")\n",
    "\n",
    "i = 1\n",
    "\n",
    "for movie in sorted_similar_movies:\n",
    "    index = movie[0]\n",
    "    title_from_index = df[df['Rank'] == index]['Name'].values\n",
    "    if len(title_from_index) > 0:\n",
    "        title_from_index = title_from_index[0]\n",
    "        if (i<=20):\n",
    "            print(i, \".\", title_from_index)\n",
    "            i += 1\n",
    "    else:\n",
    "        continue"
   ]
  }
 ],
 "metadata": {
  "kernelspec": {
   "display_name": "base",
   "language": "python",
   "name": "python3"
  },
  "language_info": {
   "codemirror_mode": {
    "name": "ipython",
    "version": 3
   },
   "file_extension": ".py",
   "mimetype": "text/x-python",
   "name": "python",
   "nbconvert_exporter": "python",
   "pygments_lexer": "ipython3",
   "version": "3.9.13"
  },
  "orig_nbformat": 4
 },
 "nbformat": 4,
 "nbformat_minor": 2
}
